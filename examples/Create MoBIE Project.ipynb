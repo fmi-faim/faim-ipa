{
 "cells": [
  {
   "cell_type": "code",
   "execution_count": 1,
   "id": "69678ada",
   "metadata": {},
   "outputs": [],
   "source": [
    "from ome_zarr.io import parse_url\n",
    "import zarr\n",
    "\n",
    "from os.path import join\n",
    "\n",
    "import mobie\n",
    "from mobie.metadata.project_metadata import create_project_metadata, add_dataset\n",
    "from mobie.metadata.dataset_metadata import create_dataset_structure, create_dataset_metadata\n",
    "\n",
    "from faim_ipa.mobie import add_wells_to_project\n",
    "\n",
    "from os.path import exists\n",
    "import shutil\n"
   ]
  },
  {
   "cell_type": "markdown",
   "id": "7ef8c617",
   "metadata": {},
   "source": [
    "# MoBIE Project\n",
    "\n",
    "MoBIE is a Fiji viewer to visualize large data like ome-zarr HCS plates. A MoBIE project can hold multiple datasets and each dataset consists of views of different image sources, which can be linked to tabular data. For more information check out the [MoBIE Tutorials]().\n",
    "\n",
    "Citation: [Pape, Constantin, et al. \"MoBIE: a Fiji plugin for sharing and exploration of multi-modal cloud-hosted big image data.\" Nature Methods (2023): 1-2.](https://www.nature.com/articles/s41592-023-01776-4)"
   ]
  },
  {
   "cell_type": "code",
   "execution_count": 2,
   "id": "4140329d-ca5b-4d44-8b34-07e044a8fe48",
   "metadata": {},
   "outputs": [],
   "source": [
    "# The MoBIE project folder and name of the plate/dataset\n",
    "mobie_project_folder = \"./mobie-example-project\""
   ]
  },
  {
   "cell_type": "code",
   "execution_count": 3,
   "id": "02fe3b23",
   "metadata": {
    "scrolled": true
   },
   "outputs": [],
   "source": [
    "if exists(mobie_project_folder):\n",
    "    # Remove if it already exists.\n",
    "    shutil.rmtree(mobie_project_folder)\n",
    "\n",
    "# Create a new empty MoBIE project\n",
    "create_project_metadata(mobie_project_folder)"
   ]
  },
  {
   "cell_type": "markdown",
   "id": "3ba390db",
   "metadata": {},
   "source": [
    "## Add 3D OME-Zarr"
   ]
  },
  {
   "cell_type": "code",
   "execution_count": 4,
   "id": "40ef8c8a",
   "metadata": {},
   "outputs": [],
   "source": [
    "dataset_name = \"Projection-Mix\""
   ]
  },
  {
   "cell_type": "code",
   "execution_count": 5,
   "id": "aa00abb8",
   "metadata": {},
   "outputs": [
    {
     "data": {
      "text/plain": [
       "'./mobie-example-project/Projection-Mix'"
      ]
     },
     "execution_count": 5,
     "metadata": {},
     "output_type": "execute_result"
    }
   ],
   "source": [
    "# Create a new dataset\n",
    "create_dataset_structure(mobie_project_folder, dataset_name, file_formats=[\"ome.zarr\"])"
   ]
  },
  {
   "cell_type": "code",
   "execution_count": 6,
   "id": "ff80691f",
   "metadata": {},
   "outputs": [],
   "source": [
    "# Fill in dataset metadata\n",
    "create_dataset_metadata(\n",
    "    dataset_folder=join(mobie_project_folder, dataset_name), \n",
    "    description=\"A 3D projection mix example dataset.\",\n",
    "    is2d=False,\n",
    ")"
   ]
  },
  {
   "cell_type": "code",
   "execution_count": 7,
   "id": "67486c85",
   "metadata": {},
   "outputs": [],
   "source": [
    "# Update MoBIE project by adding the new dataset.\n",
    "add_dataset(mobie_project_folder, dataset_name, is_default=True)"
   ]
  },
  {
   "cell_type": "code",
   "execution_count": 8,
   "id": "a83fecb0",
   "metadata": {},
   "outputs": [],
   "source": [
    "# OME-Zarr plate we want to add to a MoBIE project\n",
    "plate_path = \"./zarr-files/Projection-Mix.zarr/\"\n",
    "store = parse_url(plate_path, mode=\"r\").store\n",
    "    \n",
    "plate = zarr.group(store=store)"
   ]
  },
  {
   "cell_type": "code",
   "execution_count": 9,
   "id": "ba6e238b",
   "metadata": {},
   "outputs": [
    {
     "data": {
      "application/vnd.jupyter.widget-view+json": {
       "model_id": "77b6ffb4b405463786b40f5402fcb6df",
       "version_major": 2,
       "version_minor": 0
      },
      "text/plain": [
       "  0%|          | 0/1 [00:00<?, ?it/s]"
      ]
     },
     "metadata": {},
     "output_type": "display_data"
    },
    {
     "data": {
      "application/vnd.jupyter.widget-view+json": {
       "model_id": "",
       "version_major": 2,
       "version_minor": 0
      },
      "text/plain": [
       "  0%|          | 0/2 [00:00<?, ?it/s]"
      ]
     },
     "metadata": {},
     "output_type": "display_data"
    }
   ],
   "source": [
    "add_wells_to_project(\n",
    "    plate=plate,\n",
    "    dataset_folder=join(mobie_project_folder, dataset_name),\n",
    "    well_group=\"0\",\n",
    "    view_name=\"default\",\n",
    ")"
   ]
  },
  {
   "cell_type": "code",
   "execution_count": 10,
   "id": "29c4e2b1",
   "metadata": {},
   "outputs": [
    {
     "data": {
      "application/vnd.jupyter.widget-view+json": {
       "model_id": "c3a0daf4682441af8a803e7a94798a5e",
       "version_major": 2,
       "version_minor": 0
      },
      "text/plain": [
       "  0%|          | 0/1 [00:00<?, ?it/s]"
      ]
     },
     "metadata": {},
     "output_type": "display_data"
    },
    {
     "data": {
      "application/vnd.jupyter.widget-view+json": {
       "model_id": "",
       "version_major": 2,
       "version_minor": 0
      },
      "text/plain": [
       "  0%|          | 0/2 [00:00<?, ?it/s]"
      ]
     },
     "metadata": {},
     "output_type": "display_data"
    }
   ],
   "source": [
    "add_wells_to_project(\n",
    "    plate=plate,\n",
    "    dataset_folder=join(mobie_project_folder, dataset_name),\n",
    "    well_group=\"0/projections\",\n",
    "    view_name=\"Projections\",\n",
    "    label_suffix=\"_projection\",\n",
    ")"
   ]
  },
  {
   "cell_type": "code",
   "execution_count": 11,
   "id": "afba60fe",
   "metadata": {
    "scrolled": true
   },
   "outputs": [
    {
     "name": "stderr",
     "output_type": "stream",
     "text": [
      "Check sources for dataset Projection-Mix: 100%|████████████████████████████████████████████████████████████████████████████████████████████████████████████████████████████████████████████████████| 17/17 [00:00<00:00, 182.53it/s]\n",
      "Check views for dataset Projection-Mix: 100%|█████████████████████████████████████████████████████████████████████████████████████████████████████████████████████████████████████████████████████████| 2/2 [00:00<00:00, 67.79it/s]\n",
      "Check view files for dataset Projection-Mix: 0it [00:00, ?it/s]"
     ]
    },
    {
     "name": "stdout",
     "output_type": "stream",
     "text": [
      "The project at ./mobie-example-project is a valid MoBIE project.\n"
     ]
    },
    {
     "name": "stderr",
     "output_type": "stream",
     "text": [
      "\n"
     ]
    }
   ],
   "source": [
    "# Validate MoBIE project integrety\n",
    "mobie.validation.validate_project(mobie_project_folder)"
   ]
  },
  {
   "cell_type": "markdown",
   "id": "ba6541d5",
   "metadata": {},
   "source": [
    "## Add 2D OME-Zarr"
   ]
  },
  {
   "cell_type": "code",
   "execution_count": 12,
   "id": "0ea11901",
   "metadata": {},
   "outputs": [],
   "source": [
    "dataset_name = \"Single-Plane\""
   ]
  },
  {
   "cell_type": "code",
   "execution_count": 13,
   "id": "623ebb74",
   "metadata": {},
   "outputs": [
    {
     "data": {
      "text/plain": [
       "'./mobie-example-project/Single-Plane'"
      ]
     },
     "execution_count": 13,
     "metadata": {},
     "output_type": "execute_result"
    }
   ],
   "source": [
    "# Create a new dataset\n",
    "create_dataset_structure(mobie_project_folder, dataset_name, file_formats=[\"ome.zarr\"])"
   ]
  },
  {
   "cell_type": "code",
   "execution_count": 14,
   "id": "211a5721",
   "metadata": {},
   "outputs": [],
   "source": [
    "# Fill in dataset metadata\n",
    "create_dataset_metadata(\n",
    "    dataset_folder=join(mobie_project_folder, dataset_name), \n",
    "    description=\"A 2D dataset.\",\n",
    "    is2d=True,\n",
    ")"
   ]
  },
  {
   "cell_type": "code",
   "execution_count": 15,
   "id": "5f8eddf6",
   "metadata": {},
   "outputs": [],
   "source": [
    "# Update MoBIE project by adding the new dataset.\n",
    "add_dataset(mobie_project_folder, dataset_name, is_default=True)"
   ]
  },
  {
   "cell_type": "code",
   "execution_count": 16,
   "id": "ccb678ce",
   "metadata": {},
   "outputs": [],
   "source": [
    "# OME-Zarr plate we want to add to a MoBIE project\n",
    "plate_path = \"zarr-files/Single-Plane.zarr/\"\n",
    "store = parse_url(plate_path, mode=\"r\").store\n",
    "    \n",
    "plate = zarr.group(store=store)"
   ]
  },
  {
   "cell_type": "code",
   "execution_count": 17,
   "id": "e0fa6766",
   "metadata": {},
   "outputs": [
    {
     "data": {
      "application/vnd.jupyter.widget-view+json": {
       "model_id": "d4db8f292921494ba09c74758e1b251f",
       "version_major": 2,
       "version_minor": 0
      },
      "text/plain": [
       "  0%|          | 0/1 [00:00<?, ?it/s]"
      ]
     },
     "metadata": {},
     "output_type": "display_data"
    },
    {
     "data": {
      "application/vnd.jupyter.widget-view+json": {
       "model_id": "",
       "version_major": 2,
       "version_minor": 0
      },
      "text/plain": [
       "  0%|          | 0/2 [00:00<?, ?it/s]"
      ]
     },
     "metadata": {},
     "output_type": "display_data"
    }
   ],
   "source": [
    "add_wells_to_project(\n",
    "    plate=plate,\n",
    "    dataset_folder=join(mobie_project_folder, dataset_name),\n",
    "    well_group=\"0\",\n",
    "    view_name=\"default\",\n",
    ")"
   ]
  },
  {
   "cell_type": "code",
   "execution_count": 18,
   "id": "be4257f2",
   "metadata": {
    "scrolled": true,
    "tags": []
   },
   "outputs": [
    {
     "name": "stderr",
     "output_type": "stream",
     "text": [
      "Check sources for dataset Projection-Mix: 100%|████████████████████████████████████████████████████████████████████████████████████████████████████████████████████████████████████████████████████| 17/17 [00:00<00:00, 160.27it/s]\n",
      "Check views for dataset Projection-Mix: 100%|█████████████████████████████████████████████████████████████████████████████████████████████████████████████████████████████████████████████████████████| 2/2 [00:00<00:00, 72.77it/s]\n",
      "Check view files for dataset Projection-Mix: 0it [00:00, ?it/s]\n",
      "Check sources for dataset Single-Plane: 100%|████████████████████████████████████████████████████████████████████████████████████████████████████████████████████████████████████████████████████████| 9/9 [00:00<00:00, 130.71it/s]\n",
      "Check views for dataset Single-Plane: 100%|███████████████████████████████████████████████████████████████████████████████████████████████████████████████████████████████████████████████████████████| 1/1 [00:00<00:00, 36.53it/s]\n",
      "Check view files for dataset Single-Plane: 0it [00:00, ?it/s]"
     ]
    },
    {
     "name": "stdout",
     "output_type": "stream",
     "text": [
      "The project at ./mobie-example-project is a valid MoBIE project.\n"
     ]
    },
    {
     "name": "stderr",
     "output_type": "stream",
     "text": [
      "\n"
     ]
    }
   ],
   "source": [
    "# Validate MoBIE project integrety\n",
    "mobie.validation.validate_project(mobie_project_folder)"
   ]
  }
 ],
 "metadata": {
  "kernelspec": {
   "display_name": "Python 3 (ipykernel)",
   "language": "python",
   "name": "python3"
  },
  "language_info": {
   "codemirror_mode": {
    "name": "ipython",
    "version": 3
   },
   "file_extension": ".py",
   "mimetype": "text/x-python",
   "name": "python",
   "nbconvert_exporter": "python",
   "pygments_lexer": "ipython3",
   "version": "3.9.16"
  }
 },
 "nbformat": 4,
 "nbformat_minor": 5
}
